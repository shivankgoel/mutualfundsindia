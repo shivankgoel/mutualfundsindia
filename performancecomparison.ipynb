{
 "cells": [
  {
   "cell_type": "code",
   "execution_count": 1,
   "metadata": {},
   "outputs": [
    {
     "data": {
      "text/html": [
       "<div>\n",
       "<style scoped>\n",
       "    .dataframe tbody tr th:only-of-type {\n",
       "        vertical-align: middle;\n",
       "    }\n",
       "\n",
       "    .dataframe tbody tr th {\n",
       "        vertical-align: top;\n",
       "    }\n",
       "\n",
       "    .dataframe thead th {\n",
       "        text-align: right;\n",
       "    }\n",
       "</style>\n",
       "<table border=\"1\" class=\"dataframe\">\n",
       "  <thead>\n",
       "    <tr style=\"text-align: right;\">\n",
       "      <th></th>\n",
       "      <th>m</th>\n",
       "      <th>y</th>\n",
       "      <th>OpenMonthlyRawReturn</th>\n",
       "      <th>OpenMonthlySensexReturn</th>\n",
       "      <th>ClosedMonthlyRawReturn</th>\n",
       "      <th>ClosedMonthlySensexReturn</th>\n",
       "      <th>RawReturnDiff</th>\n",
       "      <th>BSEReturnDiff</th>\n",
       "    </tr>\n",
       "  </thead>\n",
       "  <tbody>\n",
       "    <tr>\n",
       "      <th>count</th>\n",
       "      <td>44.000000</td>\n",
       "      <td>44.000000</td>\n",
       "      <td>44.000000</td>\n",
       "      <td>44.000000</td>\n",
       "      <td>44.000000</td>\n",
       "      <td>44.000000</td>\n",
       "      <td>44.000000</td>\n",
       "      <td>44.000000</td>\n",
       "    </tr>\n",
       "    <tr>\n",
       "      <th>mean</th>\n",
       "      <td>6.681818</td>\n",
       "      <td>2007.818237</td>\n",
       "      <td>0.011685</td>\n",
       "      <td>0.000043</td>\n",
       "      <td>0.005315</td>\n",
       "      <td>-0.003857</td>\n",
       "      <td>-0.006369</td>\n",
       "      <td>-0.003900</td>\n",
       "    </tr>\n",
       "    <tr>\n",
       "      <th>std</th>\n",
       "      <td>3.574930</td>\n",
       "      <td>1.126277</td>\n",
       "      <td>0.066190</td>\n",
       "      <td>0.030719</td>\n",
       "      <td>0.082909</td>\n",
       "      <td>0.025670</td>\n",
       "      <td>0.023561</td>\n",
       "      <td>0.021569</td>\n",
       "    </tr>\n",
       "    <tr>\n",
       "      <th>min</th>\n",
       "      <td>1.000000</td>\n",
       "      <td>2006.000000</td>\n",
       "      <td>-0.194580</td>\n",
       "      <td>-0.064037</td>\n",
       "      <td>-0.249128</td>\n",
       "      <td>-0.051803</td>\n",
       "      <td>-0.094643</td>\n",
       "      <td>-0.090400</td>\n",
       "    </tr>\n",
       "    <tr>\n",
       "      <th>25%</th>\n",
       "      <td>3.750000</td>\n",
       "      <td>2007.000000</td>\n",
       "      <td>-0.024810</td>\n",
       "      <td>-0.018722</td>\n",
       "      <td>-0.039625</td>\n",
       "      <td>-0.024071</td>\n",
       "      <td>-0.012123</td>\n",
       "      <td>-0.013571</td>\n",
       "    </tr>\n",
       "    <tr>\n",
       "      <th>50%</th>\n",
       "      <td>7.000000</td>\n",
       "      <td>2008.000000</td>\n",
       "      <td>0.014196</td>\n",
       "      <td>-0.000158</td>\n",
       "      <td>0.014652</td>\n",
       "      <td>-0.002150</td>\n",
       "      <td>-0.002546</td>\n",
       "      <td>-0.001652</td>\n",
       "    </tr>\n",
       "    <tr>\n",
       "      <th>75%</th>\n",
       "      <td>10.000000</td>\n",
       "      <td>2009.000000</td>\n",
       "      <td>0.058196</td>\n",
       "      <td>0.022988</td>\n",
       "      <td>0.061414</td>\n",
       "      <td>0.011178</td>\n",
       "      <td>0.007358</td>\n",
       "      <td>0.008022</td>\n",
       "    </tr>\n",
       "    <tr>\n",
       "      <th>max</th>\n",
       "      <td>12.000000</td>\n",
       "      <td>2010.000000</td>\n",
       "      <td>0.201278</td>\n",
       "      <td>0.076576</td>\n",
       "      <td>0.248328</td>\n",
       "      <td>0.047978</td>\n",
       "      <td>0.047050</td>\n",
       "      <td>0.045914</td>\n",
       "    </tr>\n",
       "  </tbody>\n",
       "</table>\n",
       "</div>"
      ],
      "text/plain": [
       "               m            y  OpenMonthlyRawReturn  OpenMonthlySensexReturn  \\\n",
       "count  44.000000    44.000000             44.000000                44.000000   \n",
       "mean    6.681818  2007.818237              0.011685                 0.000043   \n",
       "std     3.574930     1.126277              0.066190                 0.030719   \n",
       "min     1.000000  2006.000000             -0.194580                -0.064037   \n",
       "25%     3.750000  2007.000000             -0.024810                -0.018722   \n",
       "50%     7.000000  2008.000000              0.014196                -0.000158   \n",
       "75%    10.000000  2009.000000              0.058196                 0.022988   \n",
       "max    12.000000  2010.000000              0.201278                 0.076576   \n",
       "\n",
       "       ClosedMonthlyRawReturn  ClosedMonthlySensexReturn  RawReturnDiff  \\\n",
       "count               44.000000                  44.000000      44.000000   \n",
       "mean                 0.005315                  -0.003857      -0.006369   \n",
       "std                  0.082909                   0.025670       0.023561   \n",
       "min                 -0.249128                  -0.051803      -0.094643   \n",
       "25%                 -0.039625                  -0.024071      -0.012123   \n",
       "50%                  0.014652                  -0.002150      -0.002546   \n",
       "75%                  0.061414                   0.011178       0.007358   \n",
       "max                  0.248328                   0.047978       0.047050   \n",
       "\n",
       "       BSEReturnDiff  \n",
       "count      44.000000  \n",
       "mean       -0.003900  \n",
       "std         0.021569  \n",
       "min        -0.090400  \n",
       "25%        -0.013571  \n",
       "50%        -0.001652  \n",
       "75%         0.008022  \n",
       "max         0.045914  "
      ]
     },
     "execution_count": 1,
     "metadata": {},
     "output_type": "execute_result"
    }
   ],
   "source": [
    "from dependencies import *\n",
    "path = 'perfdata/'\n",
    "data = pd.read_stata(path+'20100511OpenedFundMonthly.dta')\n",
    "data = data.merge(pd.read_stata(path+'20100511ClosedFundMonthly.dta'),on=['m','y'])\n",
    "data['RawReturnDiff']  = data['ClosedMonthlyRawReturn'].values -  data['OpenMonthlyRawReturn'].values\n",
    "data['BSEReturnDiff'] = data['ClosedMonthlySensexReturn'].values -  data['OpenMonthlySensexReturn'].values\n",
    "data.describe()"
   ]
  },
  {
   "cell_type": "code",
   "execution_count": 2,
   "metadata": {},
   "outputs": [
    {
     "data": {
      "text/plain": [
       "Ttest_relResult(statistic=-1.7932080525111902, pvalue=0.07997503912504751)"
      ]
     },
     "execution_count": 2,
     "metadata": {},
     "output_type": "execute_result"
    }
   ],
   "source": [
    "from scipy import stats\n",
    "stats.ttest_rel(data['ClosedMonthlyRawReturn'].values, data['OpenMonthlyRawReturn'].values)"
   ]
  },
  {
   "cell_type": "code",
   "execution_count": 3,
   "metadata": {},
   "outputs": [
    {
     "data": {
      "text/plain": [
       "Ttest_relResult(statistic=-1.1994857640803585, pvalue=0.2369069244416181)"
      ]
     },
     "execution_count": 3,
     "metadata": {},
     "output_type": "execute_result"
    }
   ],
   "source": [
    "stats.ttest_rel(data['ClosedMonthlySensexReturn'].values, data['OpenMonthlySensexReturn'].values)"
   ]
  }
 ],
 "metadata": {
  "kernelspec": {
   "display_name": "Python 3",
   "language": "python",
   "name": "python3"
  },
  "language_info": {
   "codemirror_mode": {
    "name": "ipython",
    "version": 3
   },
   "file_extension": ".py",
   "mimetype": "text/x-python",
   "name": "python",
   "nbconvert_exporter": "python",
   "pygments_lexer": "ipython3",
   "version": "3.6.5"
  }
 },
 "nbformat": 4,
 "nbformat_minor": 2
}
