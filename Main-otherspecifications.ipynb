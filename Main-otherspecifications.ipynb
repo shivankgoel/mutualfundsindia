{
 "cells": [
  {
   "cell_type": "code",
   "execution_count": 1,
   "metadata": {},
   "outputs": [],
   "source": [
    "from dependencies import *\n",
    "cpidata = pd.read_excel('cpidata.xls',sheet_name='Sheet2')\n",
    "\n",
    "a = pd.read_stata('table2_1.dta')\n",
    "b = pd.read_stata('table2_2.dta')\n",
    "c = pd.read_stata('table3.dta')\n",
    "d = pd.read_stata('table4.dta')\n",
    "\n",
    "data = pd.read_stata('table2_1.dta')\n",
    "data = data.merge(pd.read_stata('table2_2.dta'),on=['month','year','type_fund'])\n",
    "data = data.merge(pd.read_stata('table3.dta'),on=['month','year','type_fund'])\n",
    "data = data.merge(pd.read_stata('table4.dta'),on=['month','year','type_fund'])\n",
    "\n",
    "data['month'] = ['January' if x == 'Janurary' else x for x in data['month']]\n",
    "data['monthyear'] = [a+str(b) for a,b in zip(data['month'].values,data['year'].values)]\n",
    "data['date'] = pd.to_datetime(data['monthyear'],infer_datetime_format=True)\n",
    "\n",
    "data = data.merge(cpidata,on=['date'])\n",
    "data = data.sort_values(['date','type_fund'])\n",
    "\n",
    "money_vars = ['new_open_amt', 'new_closed_amt', 'new_interval_amt', 'new_assured_amt', 'exi_open_amt', 'exi_closed_amt', 'exi_interval_amt', 'exi_assured_amt', 'open_red', 'closed_red', 'interval_red', 'assured_re', 'open_aum', 'closed_aum', 'interval_aum', 'assured_aum']\n",
    "\n",
    "\n",
    "\n",
    "data['new_open_amt'] = data['new_open_amt'].fillna(1)"
   ]
  },
  {
   "cell_type": "code",
   "execution_count": 2,
   "metadata": {},
   "outputs": [],
   "source": [
    "a1 = [x and y for x,y in zip(data['date'] == 'January2008',data['type_fund'] == 2)]\n",
    "a2 = [x and y for x,y in zip(data['date'] > 'January2008',data['type_fund'] == 2)]\n",
    "closednumsum = np.sum(data.loc[a2]['new_closed_no'])\n",
    "#print('Adding closed num sum', closednumsum)\n",
    "data.loc[a1,'new_closed_no'] += closednumsum\n",
    "data.loc[a2,'new_closed_no'] = 0\n",
    "closedamtsum = np.sum(data.loc[a2]['new_closed_amt'])\n",
    "#print('Adding closed Amount sum', closedamtsum)\n",
    "data.loc[a1,'new_closed_amt'] += 4656.147\n",
    "#data.loc[a1,'new_closed_amt'] += closedamtsum\n",
    "data.loc[a2,'new_closed_amt'] = 0"
   ]
  },
  {
   "cell_type": "code",
   "execution_count": 3,
   "metadata": {},
   "outputs": [],
   "source": [
    "for mvar in money_vars:\n",
    "    data[mvar] = ((data[mvar]/data['cpi9'])*10)/(46.235)\n",
    "\n",
    "    \n",
    "data['net_exi_open_amt'] = data['new_open_amt'].values + data['exi_open_amt'].values - data['open_red'].values\n",
    "data['net_exi_closed_amt'] = data['new_closed_amt'].values + data['exi_closed_amt'].values - data['closed_red'].values"
   ]
  },
  {
   "cell_type": "code",
   "execution_count": 4,
   "metadata": {},
   "outputs": [],
   "source": [
    "sensexdata = pd.read_stata('sensex_use.dta')\n",
    "sensexdata['date'] = pd.to_datetime(sensexdata['month_year'],infer_datetime_format=True)\n",
    "sensexdata  = sensexdata.set_index('date')\n",
    "sensexdata['sensex_return1'] = sensexdata['sensex_return'].shift(1).values\n",
    "sensexdata['sensex_return3'] = ((1+sensexdata['sensex_return'].shift(1).values)*(1+sensexdata['sensex_return'].shift(2).values)*(1+sensexdata['sensex_return'].shift(3).values))-1\n",
    "#sensexdata['sensex_return1'] = sensexdata['sensex_return'].values\n",
    "#sensexdata['sensex_return3'] = ((1+sensexdata['sensex_return'].values)*(1+sensexdata['sensex_return'].shift(1).values)*(1+sensexdata['sensex_return'].shift(2).values))-1\n",
    "\n",
    "sensexdata = sensexdata.reset_index()\n",
    "sensexdata = sensexdata.drop(columns=['month_year'])"
   ]
  },
  {
   "cell_type": "code",
   "execution_count": 5,
   "metadata": {},
   "outputs": [],
   "source": [
    "bibordata = pd.read_stata('bibordata.dta')\n",
    "bibordata['date'] = pd.to_datetime(bibordata['month_year'],infer_datetime_format=True)\n",
    "bibordata = bibordata.drop(columns=['month_year'])"
   ]
  },
  {
   "cell_type": "code",
   "execution_count": 6,
   "metadata": {},
   "outputs": [],
   "source": [
    "data = data.merge(sensexdata,on=['date'])\n",
    "data = data.merge(bibordata,on=['date'],how='left')"
   ]
  },
  {
   "cell_type": "code",
   "execution_count": 7,
   "metadata": {},
   "outputs": [],
   "source": [
    "maindata = data[['date', 'type_fund', 'new_open_no', 'net_exi_open_amt' ,'new_closed_no', 'net_exi_closed_amt', 'new_interval_no', 'new_interval_amt', 'new_assured_no', 'new_assured_amt','sensex_return','sensex_return1','sensex_return3','bid']]\n",
    "#maindata = data[['date', 'type_fund', 'new_open_no', 'new_open_amt' ,'new_closed_no', 'new_closed_amt', 'new_interval_no', 'new_interval_amt', 'new_assured_no', 'new_assured_amt','sensex_return','sensex_return1','sensex_return3','bid']]\n",
    "maindata.columns = ['date', 'type_fund', 'starts1', 'amount1', 'starts2', 'amount2', 'starts3', 'amount3', 'starts4', 'amount4','sensex_return','sensex_return1','sensex_return3','bid']"
   ]
  },
  {
   "cell_type": "code",
   "execution_count": 8,
   "metadata": {},
   "outputs": [],
   "source": [
    "mainlong = pd.wide_to_long(maindata,stubnames = ['starts','amount'], i=['date','type_fund'],j='structure')\n",
    "mainlong = mainlong.reset_index()"
   ]
  },
  {
   "cell_type": "code",
   "execution_count": 9,
   "metadata": {},
   "outputs": [],
   "source": [
    "mainlong = mainlong.sort_values(['date','type_fund'])"
   ]
  },
  {
   "cell_type": "code",
   "execution_count": 10,
   "metadata": {},
   "outputs": [],
   "source": [
    "mainlong['equity'] = 0\n",
    "mainlong.loc[mainlong['type_fund'] == 2,'equity']  = 1"
   ]
  },
  {
   "cell_type": "code",
   "execution_count": 11,
   "metadata": {},
   "outputs": [],
   "source": [
    "mainlong['postdum'] = 0\n",
    "mainlong.loc[mainlong['date'] > 'January2008','postdum']  = 1"
   ]
  },
  {
   "cell_type": "code",
   "execution_count": 12,
   "metadata": {},
   "outputs": [],
   "source": [
    "mainlong['regime1'] = 0\n",
    "mainlong.loc[mainlong['date'] < 'April2006','regime1']  = 1\n",
    "mainlong['regime2'] = 0\n",
    "mainlong.loc[ [a and b for a,b in zip(mainlong['date'] >= 'April2006',mainlong['date'] <= 'January2008')],'regime2']  = 1\n",
    "mainlong['regime3'] = 0\n",
    "mainlong.loc[mainlong['date'] > 'January2008','regime3']  = 1"
   ]
  },
  {
   "cell_type": "code",
   "execution_count": 13,
   "metadata": {},
   "outputs": [],
   "source": [
    "mainlong['closed'] = 0\n",
    "mainlong.loc[mainlong['structure'] == 2,'closed']  = 1"
   ]
  },
  {
   "cell_type": "code",
   "execution_count": 14,
   "metadata": {},
   "outputs": [],
   "source": [
    "mainlong['closed_regime1'] = mainlong['closed'] * mainlong['regime1']\n",
    "mainlong['closed_regime2'] = mainlong['closed'] * mainlong['regime2']\n",
    "mainlong['closed_regime3'] = mainlong['closed'] * mainlong['regime3']"
   ]
  },
  {
   "cell_type": "code",
   "execution_count": 15,
   "metadata": {},
   "outputs": [
    {
     "data": {
      "text/html": [
       "<div>\n",
       "<style scoped>\n",
       "    .dataframe tbody tr th:only-of-type {\n",
       "        vertical-align: middle;\n",
       "    }\n",
       "\n",
       "    .dataframe tbody tr th {\n",
       "        vertical-align: top;\n",
       "    }\n",
       "\n",
       "    .dataframe thead th {\n",
       "        text-align: right;\n",
       "    }\n",
       "</style>\n",
       "<table border=\"1\" class=\"dataframe\">\n",
       "  <thead>\n",
       "    <tr style=\"text-align: right;\">\n",
       "      <th></th>\n",
       "      <th>time_trend</th>\n",
       "      <th>amount</th>\n",
       "      <th>starts</th>\n",
       "      <th>sensex_return</th>\n",
       "      <th>sensex_return1</th>\n",
       "      <th>sensex_return3</th>\n",
       "      <th>regime2</th>\n",
       "      <th>regime3</th>\n",
       "      <th>closed</th>\n",
       "      <th>closed_regime2</th>\n",
       "      <th>closed_regime3</th>\n",
       "    </tr>\n",
       "  </thead>\n",
       "  <tbody>\n",
       "    <tr>\n",
       "      <th>count</th>\n",
       "      <td>240.000000</td>\n",
       "      <td>240.000000</td>\n",
       "      <td>240.000000</td>\n",
       "      <td>240.000000</td>\n",
       "      <td>240.000000</td>\n",
       "      <td>240.000000</td>\n",
       "      <td>240.000000</td>\n",
       "      <td>240.000000</td>\n",
       "      <td>240.000000</td>\n",
       "      <td>240.000000</td>\n",
       "      <td>240.000000</td>\n",
       "    </tr>\n",
       "    <tr>\n",
       "      <th>mean</th>\n",
       "      <td>59.500000</td>\n",
       "      <td>133.724077</td>\n",
       "      <td>1.129167</td>\n",
       "      <td>0.010804</td>\n",
       "      <td>0.010251</td>\n",
       "      <td>0.032069</td>\n",
       "      <td>0.183333</td>\n",
       "      <td>0.166667</td>\n",
       "      <td>0.500000</td>\n",
       "      <td>0.091667</td>\n",
       "      <td>0.083333</td>\n",
       "    </tr>\n",
       "    <tr>\n",
       "      <th>std</th>\n",
       "      <td>34.712206</td>\n",
       "      <td>404.221761</td>\n",
       "      <td>1.812319</td>\n",
       "      <td>0.079741</td>\n",
       "      <td>0.080110</td>\n",
       "      <td>0.160064</td>\n",
       "      <td>0.387748</td>\n",
       "      <td>0.373457</td>\n",
       "      <td>0.501045</td>\n",
       "      <td>0.289158</td>\n",
       "      <td>0.276963</td>\n",
       "    </tr>\n",
       "    <tr>\n",
       "      <th>min</th>\n",
       "      <td>0.000000</td>\n",
       "      <td>-702.554740</td>\n",
       "      <td>0.000000</td>\n",
       "      <td>-0.247461</td>\n",
       "      <td>-0.247461</td>\n",
       "      <td>-0.401967</td>\n",
       "      <td>0.000000</td>\n",
       "      <td>0.000000</td>\n",
       "      <td>0.000000</td>\n",
       "      <td>0.000000</td>\n",
       "      <td>0.000000</td>\n",
       "    </tr>\n",
       "    <tr>\n",
       "      <th>25%</th>\n",
       "      <td>29.750000</td>\n",
       "      <td>-6.575305</td>\n",
       "      <td>0.000000</td>\n",
       "      <td>-0.038970</td>\n",
       "      <td>-0.041630</td>\n",
       "      <td>-0.090966</td>\n",
       "      <td>0.000000</td>\n",
       "      <td>0.000000</td>\n",
       "      <td>0.000000</td>\n",
       "      <td>0.000000</td>\n",
       "      <td>0.000000</td>\n",
       "    </tr>\n",
       "    <tr>\n",
       "      <th>50%</th>\n",
       "      <td>59.500000</td>\n",
       "      <td>0.000000</td>\n",
       "      <td>0.000000</td>\n",
       "      <td>0.016898</td>\n",
       "      <td>0.016898</td>\n",
       "      <td>0.003803</td>\n",
       "      <td>0.000000</td>\n",
       "      <td>0.000000</td>\n",
       "      <td>0.500000</td>\n",
       "      <td>0.000000</td>\n",
       "      <td>0.000000</td>\n",
       "    </tr>\n",
       "    <tr>\n",
       "      <th>75%</th>\n",
       "      <td>89.250000</td>\n",
       "      <td>136.660650</td>\n",
       "      <td>2.000000</td>\n",
       "      <td>0.066283</td>\n",
       "      <td>0.066283</td>\n",
       "      <td>0.146174</td>\n",
       "      <td>0.000000</td>\n",
       "      <td>0.000000</td>\n",
       "      <td>1.000000</td>\n",
       "      <td>0.000000</td>\n",
       "      <td>0.000000</td>\n",
       "    </tr>\n",
       "    <tr>\n",
       "      <th>max</th>\n",
       "      <td>119.000000</td>\n",
       "      <td>2730.089463</td>\n",
       "      <td>12.000000</td>\n",
       "      <td>0.256979</td>\n",
       "      <td>0.256979</td>\n",
       "      <td>0.629468</td>\n",
       "      <td>1.000000</td>\n",
       "      <td>1.000000</td>\n",
       "      <td>1.000000</td>\n",
       "      <td>1.000000</td>\n",
       "      <td>1.000000</td>\n",
       "    </tr>\n",
       "  </tbody>\n",
       "</table>\n",
       "</div>"
      ],
      "text/plain": [
       "       time_trend       amount      starts  sensex_return  sensex_return1  \\\n",
       "count  240.000000   240.000000  240.000000     240.000000      240.000000   \n",
       "mean    59.500000   133.724077    1.129167       0.010804        0.010251   \n",
       "std     34.712206   404.221761    1.812319       0.079741        0.080110   \n",
       "min      0.000000  -702.554740    0.000000      -0.247461       -0.247461   \n",
       "25%     29.750000    -6.575305    0.000000      -0.038970       -0.041630   \n",
       "50%     59.500000     0.000000    0.000000       0.016898        0.016898   \n",
       "75%     89.250000   136.660650    2.000000       0.066283        0.066283   \n",
       "max    119.000000  2730.089463   12.000000       0.256979        0.256979   \n",
       "\n",
       "       sensex_return3     regime2     regime3      closed  closed_regime2  \\\n",
       "count      240.000000  240.000000  240.000000  240.000000      240.000000   \n",
       "mean         0.032069    0.183333    0.166667    0.500000        0.091667   \n",
       "std          0.160064    0.387748    0.373457    0.501045        0.289158   \n",
       "min         -0.401967    0.000000    0.000000    0.000000        0.000000   \n",
       "25%         -0.090966    0.000000    0.000000    0.000000        0.000000   \n",
       "50%          0.003803    0.000000    0.000000    0.500000        0.000000   \n",
       "75%          0.146174    0.000000    0.000000    1.000000        0.000000   \n",
       "max          0.629468    1.000000    1.000000    1.000000        1.000000   \n",
       "\n",
       "       closed_regime3  \n",
       "count      240.000000  \n",
       "mean         0.083333  \n",
       "std          0.276963  \n",
       "min          0.000000  \n",
       "25%          0.000000  \n",
       "50%          0.000000  \n",
       "75%          0.000000  \n",
       "max          1.000000  "
      ]
     },
     "execution_count": 15,
     "metadata": {},
     "output_type": "execute_result"
    }
   ],
   "source": [
    "from linearmodels import PanelOLS\n",
    "import math\n",
    "temp = mainlong[mainlong['type_fund']==2]\n",
    "temp = temp[[a or b for a,b in zip(temp['structure']==2,temp['structure']==1)]]\n",
    "basedate = temp['date'].values[0]\n",
    "temp['time_trend'] = [math.floor(x.days/30.2) for x in (temp['date'] - basedate)]\n",
    "temp = temp[['time_trend','structure', 'date','amount','starts' ,'sensex_return','sensex_return1' , 'sensex_return3', 'regime2', 'regime3', 'closed' , 'closed_regime2' , 'closed_regime3']]\n",
    "temp = temp.set_index(['structure', 'date'])\n",
    "temp.describe()"
   ]
  },
  {
   "cell_type": "code",
   "execution_count": 16,
   "metadata": {},
   "outputs": [],
   "source": [
    "formula1 = 'starts ~ regime2+ closed+ closed_regime2 + 1 '\n",
    "formula2 = 'starts ~ regime2+ regime3 + closed+ closed_regime2 + closed_regime3 + 1 '\n",
    "formula3 = 'starts ~ time_trend+ regime2+ regime3 + closed+ closed_regime2 + closed_regime3 + 1 '\n",
    "formula4 = 'starts ~ time_trend+ sensex_return1 + sensex_return3+ regime2+ regime3 + closed+ closed_regime2 + closed_regime3 + 1 '"
   ]
  },
  {
   "cell_type": "code",
   "execution_count": 17,
   "metadata": {
    "scrolled": true
   },
   "outputs": [
    {
     "name": "stdout",
     "output_type": "stream",
     "text": [
      "                          PanelOLS Estimation Summary                           \n",
      "================================================================================\n",
      "Dep. Variable:                 starts   R-squared:                        0.2602\n",
      "Estimator:                   PanelOLS   R-squared (Between):              1.0000\n",
      "No. Observations:                 240   R-squared (Within):               0.1127\n",
      "Date:                Sat, May 11 2019   R-squared (Overall):              0.2602\n",
      "Time:                        00:28:47   Log-likelihood                   -446.58\n",
      "Cov. Estimator:             Clustered                                           \n",
      "                                        F-statistic:                      27.673\n",
      "Entities:                           2   P-value                           0.0000\n",
      "Avg Obs:                       120.00   Distribution:                   F(3,236)\n",
      "Min Obs:                       120.00                                           \n",
      "Max Obs:                       120.00   F-statistic (robust):             40.948\n",
      "                                        P-value                           0.0000\n",
      "Time periods:                     120   Distribution:                   F(3,236)\n",
      "Avg Obs:                       2.0000                                           \n",
      "Min Obs:                       2.0000                                           \n",
      "Max Obs:                       2.0000                                           \n",
      "                                                                                \n",
      "                               Parameter Estimates                                \n",
      "==================================================================================\n",
      "                Parameter  Std. Err.     T-stat    P-value    Lower CI    Upper CI\n",
      "----------------------------------------------------------------------------------\n",
      "Intercept          1.8776     0.1938     9.6904     0.0000      1.4958      2.2593\n",
      "regime2           -0.0594     0.4700    -0.1263     0.8996     -0.9853      0.8666\n",
      "closed            -1.8571     0.1943    -9.5587     0.0000     -2.2399     -1.4744\n",
      "closed_regime2     2.0844     0.7134     2.9220     0.0038      0.6791      3.4898\n",
      "==================================================================================\n",
      "\n",
      "\n"
     ]
    }
   ],
   "source": [
    "mod = PanelOLS.from_formula(formula1, temp)\n",
    "res1 = mod.fit(cov_type='clustered')\n",
    "print(res1)"
   ]
  },
  {
   "cell_type": "code",
   "execution_count": 18,
   "metadata": {},
   "outputs": [
    {
     "name": "stdout",
     "output_type": "stream",
     "text": [
      "                          PanelOLS Estimation Summary                           \n",
      "================================================================================\n",
      "Dep. Variable:                 starts   R-squared:                        0.2626\n",
      "Estimator:                   PanelOLS   R-squared (Between):              1.0000\n",
      "No. Observations:                 240   R-squared (Within):               0.1155\n",
      "Date:                Sat, May 11 2019   R-squared (Overall):              0.2626\n",
      "Time:                        00:28:48   Log-likelihood                   -446.19\n",
      "Cov. Estimator:             Clustered                                           \n",
      "                                        F-statistic:                      16.668\n",
      "Entities:                           2   P-value                           0.0000\n",
      "Avg Obs:                       120.00   Distribution:                   F(5,234)\n",
      "Min Obs:                       120.00                                           \n",
      "Max Obs:                       120.00   F-statistic (robust):             27.534\n",
      "                                        P-value                           0.0000\n",
      "Time periods:                     120   Distribution:                   F(5,234)\n",
      "Avg Obs:                       2.0000                                           \n",
      "Min Obs:                       2.0000                                           \n",
      "Max Obs:                       2.0000                                           \n",
      "                                                                                \n",
      "                               Parameter Estimates                                \n",
      "==================================================================================\n",
      "                Parameter  Std. Err.     T-stat    P-value    Lower CI    Upper CI\n",
      "----------------------------------------------------------------------------------\n",
      "Intercept          1.8077     0.2279     7.9317     0.0000      1.3587      2.2567\n",
      "regime2            0.0105     0.4867     0.0216     0.9828     -0.9484      0.9694\n",
      "regime3            0.3423     0.4076     0.8397     0.4019     -0.4608      1.1454\n",
      "closed            -1.7821     0.2286    -7.7946     0.0000     -2.2325     -1.3316\n",
      "closed_regime2     2.0093     0.7262     2.7667     0.0061      0.5785      3.4401\n",
      "closed_regime3    -0.3679     0.4080    -0.9017     0.3681     -1.1719      0.4360\n",
      "==================================================================================\n",
      "\n",
      "\n"
     ]
    }
   ],
   "source": [
    "mod = PanelOLS.from_formula(formula2, temp)\n",
    "res1 = mod.fit(cov_type='clustered')\n",
    "print(res1)"
   ]
  },
  {
   "cell_type": "code",
   "execution_count": 19,
   "metadata": {},
   "outputs": [
    {
     "name": "stdout",
     "output_type": "stream",
     "text": [
      "                          PanelOLS Estimation Summary                           \n",
      "================================================================================\n",
      "Dep. Variable:                 starts   R-squared:                        0.3175\n",
      "Estimator:                   PanelOLS   R-squared (Between):              1.0000\n",
      "No. Observations:                 240   R-squared (Within):               0.1814\n",
      "Date:                Sat, May 11 2019   R-squared (Overall):              0.3175\n",
      "Time:                        00:28:48   Log-likelihood                   -436.91\n",
      "Cov. Estimator:             Clustered                                           \n",
      "                                        F-statistic:                      18.065\n",
      "Entities:                           2   P-value                           0.0000\n",
      "Avg Obs:                       120.00   Distribution:                   F(6,233)\n",
      "Min Obs:                       120.00                                           \n",
      "Max Obs:                       120.00   F-statistic (robust):             24.153\n",
      "                                        P-value                           0.0000\n",
      "Time periods:                     120   Distribution:                   F(6,233)\n",
      "Avg Obs:                       2.0000                                           \n",
      "Min Obs:                       2.0000                                           \n",
      "Max Obs:                       2.0000                                           \n",
      "                                                                                \n",
      "                               Parameter Estimates                                \n",
      "==================================================================================\n",
      "                Parameter  Std. Err.     T-stat    P-value    Lower CI    Upper CI\n",
      "----------------------------------------------------------------------------------\n",
      "Intercept          0.9262     0.2315     4.0011     0.0001      0.4701      1.3823\n",
      "time_trend         0.0229     0.0059     3.8925     0.0001      0.0113      0.0345\n",
      "regime2           -1.1343     0.5939    -1.9098     0.0574     -2.3044      0.0359\n",
      "regime3           -1.2832     0.6410    -2.0019     0.0465     -2.5462     -0.0203\n",
      "closed            -1.7821     0.2162    -8.2414     0.0000     -2.2081     -1.3560\n",
      "closed_regime2     2.0093     0.7093     2.8329     0.0050      0.6119      3.4067\n",
      "closed_regime3    -0.3679     0.4039    -0.9111     0.3632     -1.1636      0.4277\n",
      "==================================================================================\n",
      "\n",
      "\n"
     ]
    }
   ],
   "source": [
    "mod = PanelOLS.from_formula(formula3, temp)\n",
    "res1 = mod.fit(cov_type='clustered')\n",
    "print(res1)"
   ]
  },
  {
   "cell_type": "code",
   "execution_count": 20,
   "metadata": {},
   "outputs": [
    {
     "name": "stdout",
     "output_type": "stream",
     "text": [
      "                          PanelOLS Estimation Summary                           \n",
      "================================================================================\n",
      "Dep. Variable:                 starts   R-squared:                        0.3244\n",
      "Estimator:                   PanelOLS   R-squared (Between):              1.0000\n",
      "No. Observations:                 240   R-squared (Within):               0.1897\n",
      "Date:                Sat, May 11 2019   R-squared (Overall):              0.3244\n",
      "Time:                        00:28:49   Log-likelihood                   -435.68\n",
      "Cov. Estimator:             Clustered                                           \n",
      "                                        F-statistic:                      13.867\n",
      "Entities:                           2   P-value                           0.0000\n",
      "Avg Obs:                       120.00   Distribution:                   F(8,231)\n",
      "Min Obs:                       120.00                                           \n",
      "Max Obs:                       120.00   F-statistic (robust):             17.571\n",
      "                                        P-value                           0.0000\n",
      "Time periods:                     120   Distribution:                   F(8,231)\n",
      "Avg Obs:                       2.0000                                           \n",
      "Min Obs:                       2.0000                                           \n",
      "Max Obs:                       2.0000                                           \n",
      "                                                                                \n",
      "                               Parameter Estimates                                \n",
      "==================================================================================\n",
      "                Parameter  Std. Err.     T-stat    P-value    Lower CI    Upper CI\n",
      "----------------------------------------------------------------------------------\n",
      "Intercept          0.8294     0.2590     3.2023     0.0016      0.3191      1.3398\n",
      "time_trend         0.0262     0.0068     3.8393     0.0002      0.0128      0.0396\n",
      "sensex_return1    -0.4498     1.6013    -0.2809     0.7790     -3.6047      2.7052\n",
      "sensex_return3    -0.8744     0.6540    -1.3369     0.1826     -2.1630      0.4142\n",
      "regime2           -1.2495     0.6222    -2.0083     0.0458     -2.4753     -0.0237\n",
      "regime3           -1.5567     0.6896    -2.2574     0.0249     -2.9155     -0.1980\n",
      "closed            -1.7821     0.2170    -8.2108     0.0000     -2.2097     -1.3544\n",
      "closed_regime2     2.0093     0.7046     2.8516     0.0047      0.6210      3.3977\n",
      "closed_regime3    -0.3679     0.4053    -0.9078     0.3649     -1.1665      0.4306\n",
      "==================================================================================\n",
      "\n",
      "\n"
     ]
    }
   ],
   "source": [
    "mod = PanelOLS.from_formula(formula4, temp)\n",
    "res1 = mod.fit(cov_type='clustered')\n",
    "print(res1)"
   ]
  },
  {
   "cell_type": "code",
   "execution_count": 21,
   "metadata": {},
   "outputs": [],
   "source": [
    "temp = temp.reset_index()\n",
    "leadlagdates = ['November2005','December2005','January2006','February2006','March2006','February2008','March2008','April2008','May2008','June2008']\n",
    "for date in leadlagdates:\n",
    "    temp[date] = 0\n",
    "    temp.loc[temp['date'] == date ,date]  = 1\n",
    "    temp['closed_'+date] = temp[date] * temp['closed']\n",
    "temp = temp.set_index(['structure', 'date'])"
   ]
  },
  {
   "cell_type": "code",
   "execution_count": 22,
   "metadata": {},
   "outputs": [],
   "source": [
    "formula5 = 'starts ~ time_trend+ sensex_return1 + sensex_return3+ regime2+ regime3 + closed+ closed_regime2 + closed_regime3 +  closed_November2005 + closed_December2005 + closed_January2006 + closed_February2006 + closed_March2006 + closed_February2008 + closed_March2008 + closed_April2008 + closed_May2008 + closed_June2008 + 1 '"
   ]
  },
  {
   "cell_type": "code",
   "execution_count": 23,
   "metadata": {
    "scrolled": true
   },
   "outputs": [
    {
     "name": "stdout",
     "output_type": "stream",
     "text": [
      "                          PanelOLS Estimation Summary                           \n",
      "================================================================================\n",
      "Dep. Variable:                 starts   R-squared:                        0.3289\n",
      "Estimator:                   PanelOLS   R-squared (Between):              1.0000\n",
      "No. Observations:                 240   R-squared (Within):               0.1950\n",
      "Date:                Sat, May 11 2019   R-squared (Overall):              0.3289\n",
      "Time:                        00:28:55   Log-likelihood                   -434.89\n",
      "Cov. Estimator:             Clustered                                           \n",
      "                                        F-statistic:                      6.0171\n",
      "Entities:                           2   P-value                           0.0000\n",
      "Avg Obs:                       120.00   Distribution:                  F(18,221)\n",
      "Min Obs:                       120.00                                           \n",
      "Max Obs:                       120.00   F-statistic (robust):         -5.176e+15\n",
      "                                        P-value                           1.0000\n",
      "Time periods:                     120   Distribution:                  F(18,221)\n",
      "Avg Obs:                       2.0000                                           \n",
      "Min Obs:                       2.0000                                           \n",
      "Max Obs:                       2.0000                                           \n",
      "                                                                                \n",
      "                                  Parameter Estimates                                  \n",
      "=======================================================================================\n",
      "                     Parameter  Std. Err.     T-stat    P-value    Lower CI    Upper CI\n",
      "---------------------------------------------------------------------------------------\n",
      "Intercept               0.7615     0.2773     2.7463     0.0065      0.2150      1.3079\n",
      "time_trend              0.0280     0.0075     3.7508     0.0002      0.0133      0.0427\n",
      "sensex_return1         -0.3564     1.7186    -0.2074     0.8359     -3.7433      3.0305\n",
      "sensex_return3         -0.9120     0.6785    -1.3441     0.1803     -2.2492      0.4252\n",
      "regime2                -1.3369     0.6500    -2.0566     0.0409     -2.6179     -0.0558\n",
      "regime3                -1.6829     0.7330    -2.2960     0.0226     -3.1274     -0.2384\n",
      "closed                 -1.7334     0.2159    -8.0269     0.0000     -2.1589     -1.3078\n",
      "closed_regime2          1.9606     0.7173     2.7333     0.0068      0.5470      3.3743\n",
      "closed_regime3         -0.4473     0.4098    -1.0915     0.2762     -1.2551      0.3604\n",
      "closed_November2005    -0.9363     0.2828    -3.3112     0.0011     -1.4936     -0.3790\n",
      "closed_December2005    -1.0111     0.2822    -3.5823     0.0004     -1.5673     -0.4548\n",
      "closed_January2006      0.1078     0.2573     0.4189     0.6757     -0.3993      0.6149\n",
      "closed_February2006    -0.9844     0.2690    -3.6589     0.0003     -1.5146     -0.4542\n",
      "closed_March2006       -0.9741     0.2825    -3.4481     0.0007     -1.5309     -0.4174\n",
      "closed_February2008     0.1972     0.1065     1.8520     0.0654     -0.0127      0.4071\n",
      "closed_March2008        0.0403     0.2000     0.2017     0.8404     -0.3539      0.4345\n",
      "closed_April2008        0.2678     0.1739     1.5399     0.1250     -0.0749      0.6106\n",
      "closed_May2008          0.1355     0.1457     0.9302     0.3533     -0.1516      0.4227\n",
      "closed_June2008        -0.0268     0.3351    -0.0801     0.9362     -0.6871      0.6335\n",
      "=======================================================================================\n",
      "\n",
      "\n"
     ]
    }
   ],
   "source": [
    "mod = PanelOLS.from_formula(formula5, temp)\n",
    "res1 = mod.fit(cov_type='clustered')\n",
    "print(res1)"
   ]
  },
  {
   "cell_type": "code",
   "execution_count": 24,
   "metadata": {},
   "outputs": [
    {
     "data": {
      "image/png": "[encoded data removed]",
      "text/plain": [
       "<Figure size 432x288 with 1 Axes>"
      ]
     },
     "metadata": {},
     "output_type": "display_data"
    }
   ],
   "source": [
    "import matplotlib.pyplot as plt\n",
    "%matplotlib inline\n",
    "labels = ['Nov2005','Dec2005','Jan2006','Feb2006','Mar2006','Regime 2','Feb2008','Mar2008','Apr2008','May2008','June2008']\n",
    "coeffs = [-0.9363,-1.0111,0.1078,-0.9844,-0.9741,1.9606,0.1972,0.0403,0.2678,0.1355,-0.0268]\n",
    "plt.plot(labels,coeffs,'r-')\n",
    "plt.axhline(0,color='black',linestyle='--')\n",
    "plt.xlabel('Leads and Lags')\n",
    "plt.ylabel('Post and Pre Treatmet Effects on Fund Starts')\n",
    "plt.xticks(rotation='vertical')\n",
    "plt.show()"
   ]
  }
 ],
 "metadata": {
  "kernelspec": {
   "display_name": "Python 3",
   "language": "python",
   "name": "python3"
  },
  "language_info": {
   "codemirror_mode": {
    "name": "ipython",
    "version": 3
   },
   "file_extension": ".py",
   "mimetype": "text/x-python",
   "name": "python",
   "nbconvert_exporter": "python",
   "pygments_lexer": "ipython3",
   "version": "3.6.5"
  }
 },
 "nbformat": 4,
 "nbformat_minor": 2
}
