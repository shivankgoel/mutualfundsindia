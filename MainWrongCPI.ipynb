{
 "cells": [
  {
   "cell_type": "code",
   "execution_count": 1,
   "metadata": {},
   "outputs": [],
   "source": [
    "from dependencies import *\n",
    "cpidata = pd.read_excel('cpidata.xls',sheet_name='Sheet2')\n",
    "\n",
    "a = pd.read_stata('table2_1.dta')\n",
    "b = pd.read_stata('table2_2.dta')\n",
    "c = pd.read_stata('table3.dta')\n",
    "d = pd.read_stata('table4.dta')\n",
    "\n",
    "data = pd.read_stata('table2_1.dta')\n",
    "data = data.merge(pd.read_stata('table2_2.dta'),on=['month','year','type_fund'])\n",
    "data = data.merge(pd.read_stata('table3.dta'),on=['month','year','type_fund'])\n",
    "data = data.merge(pd.read_stata('table4.dta'),on=['month','year','type_fund'])\n",
    "\n",
    "data['month'] = ['January' if x == 'Janurary' else x for x in data['month']]\n",
    "data['monthyear'] = [a+str(b) for a,b in zip(data['month'].values,data['year'].values)]\n",
    "data['date'] = pd.to_datetime(data['monthyear'],infer_datetime_format=True)\n",
    "\n",
    "data = data.merge(cpidata,on=['date'])\n",
    "data = data.sort_values(['date','type_fund'])\n",
    "\n",
    "money_vars = ['new_open_amt', 'new_closed_amt', 'new_interval_amt', 'new_assured_amt', 'exi_open_amt', 'exi_closed_amt', 'exi_interval_amt', 'exi_assured_amt', 'open_red', 'closed_red', 'interval_red', 'assured_re', 'open_aum', 'closed_aum', 'interval_aum', 'assured_aum']\n",
    "\n",
    "\n",
    "\n",
    "data['new_open_amt'] = data['new_open_amt'].fillna(1)"
   ]
  },
  {
   "cell_type": "code",
   "execution_count": 2,
   "metadata": {},
   "outputs": [],
   "source": [
    "a1 = [x and y for x,y in zip(data['date'] == 'January2008',data['type_fund'] == 2)]\n",
    "a2 = [x and y for x,y in zip(data['date'] > 'January2008',data['type_fund'] == 2)]\n",
    "closednumsum = np.sum(data.loc[a2]['new_closed_no'])\n",
    "#print('Adding closed num sum', closednumsum)\n",
    "data.loc[a1,'new_closed_no'] += closednumsum\n",
    "data.loc[a2,'new_closed_no'] = 0\n",
    "closedamtsum = np.sum(data.loc[a2]['new_closed_amt'])\n",
    "#print('Adding closed Amount sum', closedamtsum)\n",
    "data.loc[a1,'new_closed_amt'] += 4656.147\n",
    "#data.loc[a1,'new_closed_amt'] += closedamtsum\n",
    "data.loc[a2,'new_closed_amt'] = 0"
   ]
  },
  {
   "cell_type": "code",
   "execution_count": 3,
   "metadata": {},
   "outputs": [],
   "source": [
    "for mvar in money_vars:\n",
    "    data[mvar] = ((data[mvar]/data['cpibase9'])*10)/(46.235)\n",
    "\n",
    "    \n",
    "data['net_exi_open_amt'] = data['new_open_amt'].values + data['exi_open_amt'].values - data['open_red'].values\n",
    "data['net_exi_closed_amt'] = data['new_closed_amt'].values + data['exi_closed_amt'].values - data['closed_red'].values"
   ]
  },
  {
   "cell_type": "code",
   "execution_count": 4,
   "metadata": {},
   "outputs": [],
   "source": [
    "sensexdata = pd.read_stata('sensex_use.dta')\n",
    "sensexdata['date'] = pd.to_datetime(sensexdata['month_year'],infer_datetime_format=True)\n",
    "sensexdata  = sensexdata.set_index('date')\n",
    "sensexdata['sensex_return1'] = sensexdata['sensex_return'].shift(1).values\n",
    "sensexdata['sensex_return3'] = ((1+sensexdata['sensex_return'].shift(1).values)*(1+sensexdata['sensex_return'].shift(2).values)*(1+sensexdata['sensex_return'].shift(3).values))-1\n",
    "#sensexdata['sensex_return1'] = sensexdata['sensex_return'].values\n",
    "#sensexdata['sensex_return3'] = ((1+sensexdata['sensex_return'].values)*(1+sensexdata['sensex_return'].shift(1).values)*(1+sensexdata['sensex_return'].shift(2).values))-1\n",
    "\n",
    "sensexdata = sensexdata.reset_index()\n",
    "sensexdata = sensexdata.drop(columns=['month_year'])"
   ]
  },
  {
   "cell_type": "code",
   "execution_count": 5,
   "metadata": {},
   "outputs": [],
   "source": [
    "bibordata = pd.read_stata('bibordata.dta')\n",
    "bibordata['date'] = pd.to_datetime(bibordata['month_year'],infer_datetime_format=True)\n",
    "bibordata = bibordata.drop(columns=['month_year'])"
   ]
  },
  {
   "cell_type": "code",
   "execution_count": 6,
   "metadata": {},
   "outputs": [],
   "source": [
    "data = data.merge(sensexdata,on=['date'])\n",
    "data = data.merge(bibordata,on=['date'],how='left')"
   ]
  },
  {
   "cell_type": "code",
   "execution_count": 7,
   "metadata": {},
   "outputs": [],
   "source": [
    "maindata = data[['date', 'type_fund', 'new_open_no', 'net_exi_open_amt' ,'new_closed_no', 'net_exi_closed_amt', 'new_interval_no', 'new_interval_amt', 'new_assured_no', 'new_assured_amt','sensex_return','sensex_return1','sensex_return3','bid']]\n",
    "#maindata = data[['date', 'type_fund', 'new_open_no', 'new_open_amt' ,'new_closed_no', 'new_closed_amt', 'new_interval_no', 'new_interval_amt', 'new_assured_no', 'new_assured_amt','sensex_return','sensex_return1','sensex_return3','bid']]\n",
    "maindata.columns = ['date', 'type_fund', 'starts1', 'amount1', 'starts2', 'amount2', 'starts3', 'amount3', 'starts4', 'amount4','sensex_return','sensex_return1','sensex_return3','bid']"
   ]
  },
  {
   "cell_type": "code",
   "execution_count": 8,
   "metadata": {},
   "outputs": [],
   "source": [
    "mainlong = pd.wide_to_long(maindata,stubnames = ['starts','amount'], i=['date','type_fund'],j='structure')\n",
    "mainlong = mainlong.reset_index()"
   ]
  },
  {
   "cell_type": "code",
   "execution_count": 9,
   "metadata": {},
   "outputs": [],
   "source": [
    "mainlong = mainlong.sort_values(['date','type_fund'])"
   ]
  },
  {
   "cell_type": "code",
   "execution_count": 10,
   "metadata": {},
   "outputs": [],
   "source": [
    "mainlong['equity'] = 0\n",
    "mainlong.loc[mainlong['type_fund'] == 2,'equity']  = 1"
   ]
  },
  {
   "cell_type": "code",
   "execution_count": 11,
   "metadata": {},
   "outputs": [],
   "source": [
    "mainlong['postdum'] = 0\n",
    "mainlong.loc[mainlong['date'] > 'January2008','postdum']  = 1"
   ]
  },
  {
   "cell_type": "code",
   "execution_count": 12,
   "metadata": {},
   "outputs": [],
   "source": [
    "mainlong['regime1'] = 0\n",
    "mainlong.loc[mainlong['date'] < 'April2006','regime1']  = 1\n",
    "mainlong['regime2'] = 0\n",
    "mainlong.loc[ [a and b for a,b in zip(mainlong['date'] >= 'April2006',mainlong['date'] <= 'January2008')],'regime2']  = 1\n",
    "mainlong['regime3'] = 0\n",
    "mainlong.loc[mainlong['date'] > 'January2008','regime3']  = 1"
   ]
  },
  {
   "cell_type": "code",
   "execution_count": 13,
   "metadata": {},
   "outputs": [],
   "source": [
    "mainlong['closed'] = 0\n",
    "mainlong.loc[mainlong['structure'] == 2,'closed']  = 1"
   ]
  },
  {
   "cell_type": "code",
   "execution_count": 14,
   "metadata": {},
   "outputs": [],
   "source": [
    "mainlong['closed_regime1'] = mainlong['closed'] * mainlong['regime1']\n",
    "mainlong['closed_regime2'] = mainlong['closed'] * mainlong['regime2']\n",
    "mainlong['closed_regime3'] = mainlong['closed'] * mainlong['regime3']"
   ]
  },
  {
   "cell_type": "code",
   "execution_count": 15,
   "metadata": {},
   "outputs": [
    {
     "data": {
      "text/html": [
       "<div>\n",
       "<style scoped>\n",
       "    .dataframe tbody tr th:only-of-type {\n",
       "        vertical-align: middle;\n",
       "    }\n",
       "\n",
       "    .dataframe tbody tr th {\n",
       "        vertical-align: top;\n",
       "    }\n",
       "\n",
       "    .dataframe thead th {\n",
       "        text-align: right;\n",
       "    }\n",
       "</style>\n",
       "<table border=\"1\" class=\"dataframe\">\n",
       "  <thead>\n",
       "    <tr style=\"text-align: right;\">\n",
       "      <th></th>\n",
       "      <th>time_trend</th>\n",
       "      <th>amount</th>\n",
       "      <th>starts</th>\n",
       "      <th>sensex_return</th>\n",
       "      <th>sensex_return1</th>\n",
       "      <th>sensex_return3</th>\n",
       "      <th>regime2</th>\n",
       "      <th>regime3</th>\n",
       "      <th>closed</th>\n",
       "      <th>closed_regime2</th>\n",
       "      <th>closed_regime3</th>\n",
       "    </tr>\n",
       "  </thead>\n",
       "  <tbody>\n",
       "    <tr>\n",
       "      <th>count</th>\n",
       "      <td>240.000000</td>\n",
       "      <td>240.000000</td>\n",
       "      <td>240.000000</td>\n",
       "      <td>240.000000</td>\n",
       "      <td>240.000000</td>\n",
       "      <td>240.000000</td>\n",
       "      <td>240.000000</td>\n",
       "      <td>240.000000</td>\n",
       "      <td>240.000000</td>\n",
       "      <td>240.000000</td>\n",
       "      <td>240.000000</td>\n",
       "    </tr>\n",
       "    <tr>\n",
       "      <th>mean</th>\n",
       "      <td>59.500000</td>\n",
       "      <td>124.554294</td>\n",
       "      <td>1.129167</td>\n",
       "      <td>0.010804</td>\n",
       "      <td>0.010251</td>\n",
       "      <td>0.032069</td>\n",
       "      <td>0.183333</td>\n",
       "      <td>0.166667</td>\n",
       "      <td>0.500000</td>\n",
       "      <td>0.091667</td>\n",
       "      <td>0.083333</td>\n",
       "    </tr>\n",
       "    <tr>\n",
       "      <th>std</th>\n",
       "      <td>34.712206</td>\n",
       "      <td>376.514624</td>\n",
       "      <td>1.812319</td>\n",
       "      <td>0.079741</td>\n",
       "      <td>0.080110</td>\n",
       "      <td>0.160064</td>\n",
       "      <td>0.387748</td>\n",
       "      <td>0.373457</td>\n",
       "      <td>0.501045</td>\n",
       "      <td>0.289158</td>\n",
       "      <td>0.276963</td>\n",
       "    </tr>\n",
       "    <tr>\n",
       "      <th>min</th>\n",
       "      <td>0.000000</td>\n",
       "      <td>-652.697189</td>\n",
       "      <td>0.000000</td>\n",
       "      <td>-0.247461</td>\n",
       "      <td>-0.247461</td>\n",
       "      <td>-0.401967</td>\n",
       "      <td>0.000000</td>\n",
       "      <td>0.000000</td>\n",
       "      <td>0.000000</td>\n",
       "      <td>0.000000</td>\n",
       "      <td>0.000000</td>\n",
       "    </tr>\n",
       "    <tr>\n",
       "      <th>25%</th>\n",
       "      <td>29.750000</td>\n",
       "      <td>-6.108682</td>\n",
       "      <td>0.000000</td>\n",
       "      <td>-0.038970</td>\n",
       "      <td>-0.041630</td>\n",
       "      <td>-0.090966</td>\n",
       "      <td>0.000000</td>\n",
       "      <td>0.000000</td>\n",
       "      <td>0.000000</td>\n",
       "      <td>0.000000</td>\n",
       "      <td>0.000000</td>\n",
       "    </tr>\n",
       "    <tr>\n",
       "      <th>50%</th>\n",
       "      <td>59.500000</td>\n",
       "      <td>0.000000</td>\n",
       "      <td>0.000000</td>\n",
       "      <td>0.016898</td>\n",
       "      <td>0.016898</td>\n",
       "      <td>0.003803</td>\n",
       "      <td>0.000000</td>\n",
       "      <td>0.000000</td>\n",
       "      <td>0.500000</td>\n",
       "      <td>0.000000</td>\n",
       "      <td>0.000000</td>\n",
       "    </tr>\n",
       "    <tr>\n",
       "      <th>75%</th>\n",
       "      <td>89.250000</td>\n",
       "      <td>126.962381</td>\n",
       "      <td>2.000000</td>\n",
       "      <td>0.066283</td>\n",
       "      <td>0.066283</td>\n",
       "      <td>0.146174</td>\n",
       "      <td>0.000000</td>\n",
       "      <td>0.000000</td>\n",
       "      <td>1.000000</td>\n",
       "      <td>0.000000</td>\n",
       "      <td>0.000000</td>\n",
       "    </tr>\n",
       "    <tr>\n",
       "      <th>max</th>\n",
       "      <td>119.000000</td>\n",
       "      <td>2536.345734</td>\n",
       "      <td>12.000000</td>\n",
       "      <td>0.256979</td>\n",
       "      <td>0.256979</td>\n",
       "      <td>0.629468</td>\n",
       "      <td>1.000000</td>\n",
       "      <td>1.000000</td>\n",
       "      <td>1.000000</td>\n",
       "      <td>1.000000</td>\n",
       "      <td>1.000000</td>\n",
       "    </tr>\n",
       "  </tbody>\n",
       "</table>\n",
       "</div>"
      ],
      "text/plain": [
       "       time_trend       amount      starts  sensex_return  sensex_return1  \\\n",
       "count  240.000000   240.000000  240.000000     240.000000      240.000000   \n",
       "mean    59.500000   124.554294    1.129167       0.010804        0.010251   \n",
       "std     34.712206   376.514624    1.812319       0.079741        0.080110   \n",
       "min      0.000000  -652.697189    0.000000      -0.247461       -0.247461   \n",
       "25%     29.750000    -6.108682    0.000000      -0.038970       -0.041630   \n",
       "50%     59.500000     0.000000    0.000000       0.016898        0.016898   \n",
       "75%     89.250000   126.962381    2.000000       0.066283        0.066283   \n",
       "max    119.000000  2536.345734   12.000000       0.256979        0.256979   \n",
       "\n",
       "       sensex_return3     regime2     regime3      closed  closed_regime2  \\\n",
       "count      240.000000  240.000000  240.000000  240.000000      240.000000   \n",
       "mean         0.032069    0.183333    0.166667    0.500000        0.091667   \n",
       "std          0.160064    0.387748    0.373457    0.501045        0.289158   \n",
       "min         -0.401967    0.000000    0.000000    0.000000        0.000000   \n",
       "25%         -0.090966    0.000000    0.000000    0.000000        0.000000   \n",
       "50%          0.003803    0.000000    0.000000    0.500000        0.000000   \n",
       "75%          0.146174    0.000000    0.000000    1.000000        0.000000   \n",
       "max          0.629468    1.000000    1.000000    1.000000        1.000000   \n",
       "\n",
       "       closed_regime3  \n",
       "count      240.000000  \n",
       "mean         0.083333  \n",
       "std          0.276963  \n",
       "min          0.000000  \n",
       "25%          0.000000  \n",
       "50%          0.000000  \n",
       "75%          0.000000  \n",
       "max          1.000000  "
      ]
     },
     "execution_count": 15,
     "metadata": {},
     "output_type": "execute_result"
    }
   ],
   "source": [
    "from linearmodels import PanelOLS\n",
    "import math\n",
    "temp = mainlong[mainlong['type_fund']==2]\n",
    "temp = temp[[a or b for a,b in zip(temp['structure']==2,temp['structure']==1)]]\n",
    "basedate = temp['date'].values[0]\n",
    "temp['time_trend'] = [math.floor(x.days/30.2) for x in (temp['date'] - basedate)]\n",
    "temp = temp[['time_trend','structure', 'date','amount','starts' ,'sensex_return','sensex_return1' , 'sensex_return3', 'regime2', 'regime3', 'closed' , 'closed_regime2' , 'closed_regime3']]\n",
    "temp = temp.set_index(['structure', 'date'])\n",
    "temp.describe()"
   ]
  },
  {
   "cell_type": "code",
   "execution_count": 16,
   "metadata": {},
   "outputs": [],
   "source": [
    "formula1 = 'starts ~ time_trend + sensex_return1+ sensex_return3 + regime2 + regime3 +  closed + closed_regime2 + closed_regime3 + 1 '\n",
    "formula2 = 'amount ~ time_trend + sensex_return1 + sensex_return3 + regime2 + regime3 +  closed + closed_regime2 + closed_regime3 + 1 '"
   ]
  },
  {
   "cell_type": "code",
   "execution_count": 17,
   "metadata": {
    "scrolled": true
   },
   "outputs": [
    {
     "name": "stdout",
     "output_type": "stream",
     "text": [
      "                          PanelOLS Estimation Summary                           \n",
      "================================================================================\n",
      "Dep. Variable:                 starts   R-squared:                        0.3244\n",
      "Estimator:                   PanelOLS   R-squared (Between):              1.0000\n",
      "No. Observations:                 240   R-squared (Within):               0.1897\n",
      "Date:                Thu, May 09 2019   R-squared (Overall):              0.3244\n",
      "Time:                        21:03:55   Log-likelihood                   -435.68\n",
      "Cov. Estimator:             Clustered                                           \n",
      "                                        F-statistic:                      13.867\n",
      "Entities:                           2   P-value                           0.0000\n",
      "Avg Obs:                       120.00   Distribution:                   F(8,231)\n",
      "Min Obs:                       120.00                                           \n",
      "Max Obs:                       120.00   F-statistic (robust):             17.571\n",
      "                                        P-value                           0.0000\n",
      "Time periods:                     120   Distribution:                   F(8,231)\n",
      "Avg Obs:                       2.0000                                           \n",
      "Min Obs:                       2.0000                                           \n",
      "Max Obs:                       2.0000                                           \n",
      "                                                                                \n",
      "                               Parameter Estimates                                \n",
      "==================================================================================\n",
      "                Parameter  Std. Err.     T-stat    P-value    Lower CI    Upper CI\n",
      "----------------------------------------------------------------------------------\n",
      "Intercept          0.8294     0.2590     3.2023     0.0016      0.3191      1.3398\n",
      "time_trend         0.0262     0.0068     3.8393     0.0002      0.0128      0.0396\n",
      "sensex_return1    -0.4498     1.6013    -0.2809     0.7790     -3.6047      2.7052\n",
      "sensex_return3    -0.8744     0.6540    -1.3369     0.1826     -2.1630      0.4142\n",
      "regime2           -1.2495     0.6222    -2.0083     0.0458     -2.4753     -0.0237\n",
      "regime3           -1.5567     0.6896    -2.2574     0.0249     -2.9155     -0.1980\n",
      "closed            -1.7821     0.2170    -8.2108     0.0000     -2.2097     -1.3544\n",
      "closed_regime2     2.0093     0.7046     2.8516     0.0047      0.6210      3.3977\n",
      "closed_regime3    -0.3679     0.4053    -0.9078     0.3649     -1.1665      0.4306\n",
      "==================================================================================\n",
      "\n",
      "\n"
     ]
    }
   ],
   "source": [
    "mod = PanelOLS.from_formula(formula1, temp)\n",
    "res1 = mod.fit(cov_type='clustered')\n",
    "print(res1)"
   ]
  },
  {
   "cell_type": "code",
   "execution_count": 18,
   "metadata": {},
   "outputs": [
    {
     "name": "stdout",
     "output_type": "stream",
     "text": [
      "                          PanelOLS Estimation Summary                           \n",
      "================================================================================\n",
      "Dep. Variable:                 starts   R-squared:                        0.3890\n",
      "Estimator:                   PanelOLS   R-squared (Between):              1.0000\n",
      "No. Observations:                 128   R-squared (Within):               0.2651\n",
      "Date:                Thu, May 09 2019   R-squared (Overall):              0.3890\n",
      "Time:                        21:03:56   Log-likelihood                   -245.80\n",
      "Cov. Estimator:            Unadjusted                                           \n",
      "                                        F-statistic:                      9.4704\n",
      "Entities:                           2   P-value                           0.0000\n",
      "Avg Obs:                       64.000   Distribution:                   F(8,119)\n",
      "Min Obs:                       64.000                                           \n",
      "Max Obs:                       64.000   F-statistic (robust):             9.4704\n",
      "                                        P-value                           0.0000\n",
      "Time periods:                     120   Distribution:                   F(8,119)\n",
      "Avg Obs:                       1.0667                                           \n",
      "Min Obs:                       0.0000                                           \n",
      "Max Obs:                       2.0000                                           \n",
      "                                                                                \n",
      "                               Parameter Estimates                                \n",
      "==================================================================================\n",
      "                Parameter  Std. Err.     T-stat    P-value    Lower CI    Upper CI\n",
      "----------------------------------------------------------------------------------\n",
      "Intercept         -2.7638     1.8012    -1.5344     0.1276     -6.3304      0.8029\n",
      "time_trend         0.0951     0.0271     3.5154     0.0006      0.0415      0.1487\n",
      "sensex_return1    -0.1358     2.3062    -0.0589     0.9531     -4.7022      4.4306\n",
      "sensex_return3    -2.0489     1.2160    -1.6849     0.0946     -4.4567      0.3590\n",
      "regime2           -3.6667     0.7914    -4.6332     0.0000     -5.2338     -2.0997\n",
      "regime3           -5.5232     1.3202    -4.1837     0.0001     -8.1372     -2.9091\n",
      "closed            -3.3182     0.5163    -6.4270     0.0000     -4.3405     -2.2959\n",
      "closed_regime2     3.5455     0.7301     4.8559     0.0000      2.0997      4.9912\n",
      "closed_regime3     1.1682     0.7482     1.5614     0.1211     -0.3133      2.6496\n",
      "==================================================================================\n",
      "\n",
      "\n"
     ]
    }
   ],
   "source": [
    "temprest = temp[[a and b for a,b in zip(temp.reset_index()['date'] >= 'June2004', temp.reset_index()['date'] <= 'November2009')]]\n",
    "mod = PanelOLS.from_formula(formula1, temprest)\n",
    "res2 = mod.fit()\n",
    "print(res2)"
   ]
  },
  {
   "cell_type": "code",
   "execution_count": 19,
   "metadata": {},
   "outputs": [],
   "source": [
    "import statsmodels.api as sm\n",
    "from statsmodels.genmod.families import Poisson"
   ]
  },
  {
   "cell_type": "code",
   "execution_count": 20,
   "metadata": {},
   "outputs": [
    {
     "name": "stdout",
     "output_type": "stream",
     "text": [
      "                 Generalized Linear Model Regression Results                  \n",
      "==============================================================================\n",
      "Dep. Variable:                 starts   No. Observations:                  240\n",
      "Model:                            GLM   Df Residuals:                      231\n",
      "Model Family:                 Poisson   Df Model:                            8\n",
      "Link Function:                    log   Scale:                          1.0000\n",
      "Method:                          IRLS   Log-Likelihood:                -264.13\n",
      "Date:                Thu, 09 May 2019   Deviance:                       244.04\n",
      "Time:                        21:03:57   Pearson chi2:                     346.\n",
      "No. Iterations:                    23   Covariance Type:                   HC0\n",
      "==================================================================================\n",
      "                     coef    std err          z      P>|z|      [0.025      0.975]\n",
      "----------------------------------------------------------------------------------\n",
      "Intercept         -0.6813      0.366     -1.863      0.062      -1.398       0.035\n",
      "time_trend         0.0292      0.007      4.181      0.000       0.016       0.043\n",
      "sensex_return1    -0.3116      1.292     -0.241      0.809      -2.843       2.220\n",
      "sensex_return3    -0.8795      0.577     -1.524      0.127      -2.010       0.251\n",
      "regime2           -1.2500      0.367     -3.407      0.001      -1.969      -0.531\n",
      "regime3           -1.7812      0.475     -3.748      0.000      -2.713      -0.850\n",
      "closed            -4.2556      0.704     -6.043      0.000      -5.636      -2.875\n",
      "closed_regime2     4.3734      0.776      5.638      0.000       2.853       5.894\n",
      "closed_regime3   -20.0693      0.756    -26.532      0.000     -21.552     -18.587\n",
      "==================================================================================\n"
     ]
    }
   ],
   "source": [
    "pmodel = sm.GLM.from_formula(formula1, temp, family=Poisson())\n",
    "res3 = pmodel.fit(cov_type='HC0')\n",
    "print(res3.summary())"
   ]
  },
  {
   "cell_type": "code",
   "execution_count": 21,
   "metadata": {},
   "outputs": [
    {
     "name": "stdout",
     "output_type": "stream",
     "text": [
      "                 Generalized Linear Model Regression Results                  \n",
      "==============================================================================\n",
      "Dep. Variable:                 starts   No. Observations:                  128\n",
      "Model:                            GLM   Df Residuals:                      119\n",
      "Model Family:                 Poisson   Df Model:                            8\n",
      "Link Function:                    log   Scale:                          1.0000\n",
      "Method:                          IRLS   Log-Likelihood:                -166.96\n",
      "Date:                Thu, 09 May 2019   Deviance:                       134.87\n",
      "Time:                        21:03:57   Pearson chi2:                     146.\n",
      "No. Iterations:                    23   Covariance Type:                   HC0\n",
      "==================================================================================\n",
      "                     coef    std err          z      P>|z|      [0.025      0.975]\n",
      "----------------------------------------------------------------------------------\n",
      "Intercept         -2.5314      1.187     -2.132      0.033      -4.858      -0.205\n",
      "time_trend         0.0574      0.018      3.153      0.002       0.022       0.093\n",
      "sensex_return1     0.1409      1.514      0.093      0.926      -2.826       3.108\n",
      "sensex_return3    -1.4046      0.673     -2.087      0.037      -2.723      -0.086\n",
      "regime2           -1.9111      0.531     -3.597      0.000      -2.952      -0.870\n",
      "regime3           -3.0516      0.890     -3.428      0.001      -4.796      -1.307\n",
      "closed            -4.3041      0.976     -4.410      0.000      -6.217      -2.391\n",
      "closed_regime2     4.4218      1.025      4.315      0.000       2.414       6.430\n",
      "closed_regime3   -19.6550      1.016    -19.337      0.000     -21.647     -17.663\n",
      "==================================================================================\n"
     ]
    }
   ],
   "source": [
    "pmodel = sm.GLM.from_formula(formula1, temprest, family=Poisson())\n",
    "res4 = pmodel.fit(cov_type='HC0')\n",
    "print(res4.summary())"
   ]
  },
  {
   "cell_type": "code",
   "execution_count": 22,
   "metadata": {},
   "outputs": [
    {
     "name": "stdout",
     "output_type": "stream",
     "text": [
      "\n",
      "==================================\n",
      "                Model-1   Model-2 \n",
      "----------------------------------\n",
      "Intercept      -0.68*    -2.53**  \n",
      "               (0.37)    (1.19)   \n",
      "time_trend     0.03***   0.06***  \n",
      "               (0.01)    (0.02)   \n",
      "sensex_return1 -0.31     0.14     \n",
      "               (1.29)    (1.51)   \n",
      "sensex_return3 -0.88     -1.40**  \n",
      "               (0.58)    (0.67)   \n",
      "regime2        -1.25***  -1.91*** \n",
      "               (0.37)    (0.53)   \n",
      "regime3        -1.78***  -3.05*** \n",
      "               (0.48)    (0.89)   \n",
      "closed         -4.26***  -4.30*** \n",
      "               (0.70)    (0.98)   \n",
      "closed_regime2 4.37***   4.42***  \n",
      "               (0.78)    (1.02)   \n",
      "closed_regime3 -20.07*** -19.66***\n",
      "               (0.76)    (1.02)   \n",
      "N              240       128      \n",
      "==================================\n",
      "Standard errors in parentheses.\n",
      "* p<.1, ** p<.05, ***p<.01\n"
     ]
    }
   ],
   "source": [
    "from statsmodels.iolib.summary2 import summary_col\n",
    "dfoutput = summary_col([res3,res4],stars=True,float_format='%0.2f', model_names=['Model-1','Model-2'], info_dict={'N':lambda x: \"{0:d}\".format(int(x.nobs))})\n",
    "print(dfoutput)"
   ]
  },
  {
   "cell_type": "code",
   "execution_count": 23,
   "metadata": {},
   "outputs": [
    {
     "name": "stdout",
     "output_type": "stream",
     "text": [
      "                          PanelOLS Estimation Summary                           \n",
      "================================================================================\n",
      "Dep. Variable:                 amount   R-squared:                        0.1722\n",
      "Estimator:                   PanelOLS   R-squared (Between):              1.0000\n",
      "No. Observations:                 240   R-squared (Within):               0.1348\n",
      "Date:                Thu, May 09 2019   R-squared (Overall):              0.1722\n",
      "Time:                        21:03:58   Log-likelihood                   -1740.8\n",
      "Cov. Estimator:            Unadjusted                                           \n",
      "                                        F-statistic:                      6.0065\n",
      "Entities:                           2   P-value                           0.0000\n",
      "Avg Obs:                       120.00   Distribution:                   F(8,231)\n",
      "Min Obs:                       120.00                                           \n",
      "Max Obs:                       120.00   F-statistic (robust):             6.0065\n",
      "                                        P-value                           0.0000\n",
      "Time periods:                     120   Distribution:                   F(8,231)\n",
      "Avg Obs:                       2.0000                                           \n",
      "Min Obs:                       2.0000                                           \n",
      "Max Obs:                       2.0000                                           \n",
      "                                                                                \n",
      "                               Parameter Estimates                                \n",
      "==================================================================================\n",
      "                Parameter  Std. Err.     T-stat    P-value    Lower CI    Upper CI\n",
      "----------------------------------------------------------------------------------\n",
      "Intercept          31.125     62.933     0.4946     0.6214     -92.870      155.12\n",
      "time_trend         3.9890     1.3133     3.0373     0.0027      1.4014      6.5766\n",
      "sensex_return1    -1212.9     363.39    -3.3379     0.0010     -1928.9     -496.96\n",
      "sensex_return3     311.66     192.67     1.6176     0.1071     -67.944      691.27\n",
      "regime2           -90.050     105.19    -0.8561     0.3928     -297.31      117.21\n",
      "regime3           -281.26     129.59    -2.1704     0.0310     -536.60     -25.929\n",
      "closed            -184.19     55.796    -3.3011     0.0011     -294.12     -74.252\n",
      "closed_regime2     180.69     118.96     1.5189     0.1302     -53.696      415.07\n",
      "closed_regime3    -30.692     123.51    -0.2485     0.8040     -274.04      212.66\n",
      "==================================================================================\n",
      "\n",
      "\n"
     ]
    }
   ],
   "source": [
    "mod = PanelOLS.from_formula(formula2, temp)\n",
    "res5 = mod.fit()\n",
    "print(res5)"
   ]
  },
  {
   "cell_type": "code",
   "execution_count": 24,
   "metadata": {},
   "outputs": [
    {
     "name": "stdout",
     "output_type": "stream",
     "text": [
      "                          PanelOLS Estimation Summary                           \n",
      "================================================================================\n",
      "Dep. Variable:                 amount   R-squared:                        0.2102\n",
      "Estimator:                   PanelOLS   R-squared (Between):              1.0000\n",
      "No. Observations:                 128   R-squared (Within):               0.1781\n",
      "Date:                Thu, May 09 2019   R-squared (Overall):              0.2102\n",
      "Time:                        21:03:59   Log-likelihood                   -958.10\n",
      "Cov. Estimator:            Unadjusted                                           \n",
      "                                        F-statistic:                      3.9580\n",
      "Entities:                           2   P-value                           0.0003\n",
      "Avg Obs:                       64.000   Distribution:                   F(8,119)\n",
      "Min Obs:                       64.000                                           \n",
      "Max Obs:                       64.000   F-statistic (robust):             3.9580\n",
      "                                        P-value                           0.0003\n",
      "Time periods:                     120   Distribution:                   F(8,119)\n",
      "Avg Obs:                       1.0667                                           \n",
      "Min Obs:                       0.0000                                           \n",
      "Max Obs:                       2.0000                                           \n",
      "                                                                                \n",
      "                               Parameter Estimates                                \n",
      "==================================================================================\n",
      "                Parameter  Std. Err.     T-stat    P-value    Lower CI    Upper CI\n",
      "----------------------------------------------------------------------------------\n",
      "Intercept         -752.64     470.27    -1.6004     0.1122     -1683.8      178.54\n",
      "time_trend         18.002     7.0639     2.5485     0.0121      4.0151      31.989\n",
      "sensex_return1    -1880.9     602.10    -3.1240     0.0022     -3073.2     -688.74\n",
      "sensex_return3     243.26     317.48     0.7662     0.4451     -385.39      871.91\n",
      "regime2           -527.84     206.62    -2.5546     0.0119     -936.97     -118.71\n",
      "regime3           -1032.5     344.67    -2.9956     0.0033     -1715.0     -350.01\n",
      "closed            -358.67     134.79    -2.6609     0.0089     -625.57     -91.768\n",
      "closed_regime2     355.17     190.63     1.8632     0.0649     -22.288      732.63\n",
      "closed_regime3     143.79     195.33     0.7361     0.4631     -242.99      530.57\n",
      "==================================================================================\n",
      "\n",
      "\n"
     ]
    }
   ],
   "source": [
    "mod = PanelOLS.from_formula(formula2, temprest)\n",
    "res6 = mod.fit()\n",
    "print(res6)"
   ]
  },
  {
   "cell_type": "code",
   "execution_count": null,
   "metadata": {},
   "outputs": [],
   "source": []
  },
  {
   "cell_type": "code",
   "execution_count": null,
   "metadata": {},
   "outputs": [],
   "source": []
  }
 ],
 "metadata": {
  "kernelspec": {
   "display_name": "Python 3",
   "language": "python",
   "name": "python3"
  },
  "language_info": {
   "codemirror_mode": {
    "name": "ipython",
    "version": 3
   },
   "file_extension": ".py",
   "mimetype": "text/x-python",
   "name": "python",
   "nbconvert_exporter": "python",
   "pygments_lexer": "ipython3",
   "version": "3.6.5"
  }
 },
 "nbformat": 4,
 "nbformat_minor": 2
}
